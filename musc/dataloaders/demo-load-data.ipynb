{
 "cells": [
  {
   "cell_type": "code",
   "execution_count": 1,
   "metadata": {},
   "outputs": [
    {
     "name": "stderr",
     "output_type": "stream",
     "text": [
      "/home/liu0003/anaconda3/envs/musc/lib/python3.9/site-packages/odl/space/npy_tensors.py:481: FutureWarning: In the future `np.object` will be defined as the corresponding NumPy scalar.\n",
      "  if dtype not in (np.object, np.void):\n"
     ]
    },
    {
     "ename": "AttributeError",
     "evalue": "module 'numpy' has no attribute 'object'.\n`np.object` was a deprecated alias for the builtin `object`. To avoid this error in existing code, use `object` by itself. Doing this will not modify any behavior and is safe. \nThe aliases was originally deprecated in NumPy 1.20; for more details and guidance see the original release note at:\n    https://numpy.org/devdocs/release/1.20.0-notes.html#deprecations",
     "output_type": "error",
     "traceback": [
      "\u001b[0;31m---------------------------------------------------------------------------\u001b[0m",
      "\u001b[0;31mAttributeError\u001b[0m                            Traceback (most recent call last)",
      "Cell \u001b[0;32mIn[1], line 1\u001b[0m\n\u001b[0;32m----> 1\u001b[0m \u001b[39mfrom\u001b[39;00m \u001b[39mmusc\u001b[39;00m\u001b[39m.\u001b[39;00m\u001b[39mdataloaders\u001b[39;00m\u001b[39m.\u001b[39;00m\u001b[39mload_lodopab_ct\u001b[39;00m \u001b[39mimport\u001b[39;00m get_dataloaders_ct\n",
      "File \u001b[0;32m~/Desktop/projects/musc/musc/dataloaders/load_lodopab_ct.py:4\u001b[0m\n\u001b[1;32m      2\u001b[0m \u001b[39mfrom\u001b[39;00m \u001b[39mos\u001b[39;00m \u001b[39mimport\u001b[39;00m path, PathLike\n\u001b[1;32m      3\u001b[0m \u001b[39mimport\u001b[39;00m \u001b[39mtyping\u001b[39;00m\n\u001b[0;32m----> 4\u001b[0m \u001b[39mfrom\u001b[39;00m \u001b[39mdival\u001b[39;00m \u001b[39mimport\u001b[39;00m get_standard_dataset\n\u001b[1;32m      5\u001b[0m \u001b[39mfrom\u001b[39;00m \u001b[39mdival\u001b[39;00m\u001b[39m.\u001b[39;00m\u001b[39mdatasets\u001b[39;00m\u001b[39m.\u001b[39;00m\u001b[39mfbp_dataset\u001b[39;00m \u001b[39mimport\u001b[39;00m get_cached_fbp_dataset\n\u001b[1;32m      6\u001b[0m \u001b[39mfrom\u001b[39;00m \u001b[39mdival\u001b[39;00m\u001b[39m.\u001b[39;00m\u001b[39mutil\u001b[39;00m\u001b[39m.\u001b[39;00m\u001b[39mtorch_utility\u001b[39;00m \u001b[39mimport\u001b[39;00m RandomAccessTorchDataset\n",
      "File \u001b[0;32m~/anaconda3/envs/musc/lib/python3.9/site-packages/dival/__init__.py:6\u001b[0m\n\u001b[1;32m      4\u001b[0m \u001b[39mfrom\u001b[39;00m \u001b[39m.\u001b[39;00m\u001b[39mconfig\u001b[39;00m \u001b[39mimport\u001b[39;00m CONFIG, get_config, set_config\n\u001b[1;32m      5\u001b[0m \u001b[39mfrom\u001b[39;00m \u001b[39m.\u001b[39;00m\u001b[39mdata\u001b[39;00m \u001b[39mimport\u001b[39;00m DataPairs\n\u001b[0;32m----> 6\u001b[0m \u001b[39mfrom\u001b[39;00m \u001b[39m.\u001b[39;00m\u001b[39mdatasets\u001b[39;00m \u001b[39mimport\u001b[39;00m Dataset\n\u001b[1;32m      7\u001b[0m \u001b[39mfrom\u001b[39;00m \u001b[39m.\u001b[39;00m\u001b[39mdatasets\u001b[39;00m\u001b[39m.\u001b[39;00m\u001b[39mstandard\u001b[39;00m \u001b[39mimport\u001b[39;00m get_standard_dataset\n\u001b[1;32m      8\u001b[0m \u001b[39mfrom\u001b[39;00m \u001b[39m.\u001b[39;00m\u001b[39mreference_reconstructors\u001b[39;00m \u001b[39mimport\u001b[39;00m get_reference_reconstructor\n",
      "File \u001b[0;32m~/anaconda3/envs/musc/lib/python3.9/site-packages/dival/datasets/__init__.py:34\u001b[0m\n\u001b[1;32m     27\u001b[0m \u001b[39mfrom\u001b[39;00m \u001b[39mwarnings\u001b[39;00m \u001b[39mimport\u001b[39;00m warn\n\u001b[1;32m     29\u001b[0m __all__ \u001b[39m=\u001b[39m [\u001b[39m'\u001b[39m\u001b[39mget_standard_dataset\u001b[39m\u001b[39m'\u001b[39m, \u001b[39m'\u001b[39m\u001b[39mDataset\u001b[39m\u001b[39m'\u001b[39m, \u001b[39m'\u001b[39m\u001b[39mGroundTruthDataset\u001b[39m\u001b[39m'\u001b[39m,\n\u001b[1;32m     30\u001b[0m            \u001b[39m'\u001b[39m\u001b[39mObservationGroundTruthPairDataset\u001b[39m\u001b[39m'\u001b[39m, \u001b[39m'\u001b[39m\u001b[39mEllipsesDataset\u001b[39m\u001b[39m'\u001b[39m,\n\u001b[1;32m     31\u001b[0m            \u001b[39m'\u001b[39m\u001b[39mLoDoPaBDataset\u001b[39m\u001b[39m'\u001b[39m, \u001b[39m'\u001b[39m\u001b[39mAngleSubsetDataset\u001b[39m\u001b[39m'\u001b[39m, \u001b[39m'\u001b[39m\u001b[39mCachedDataset\u001b[39m\u001b[39m'\u001b[39m,\n\u001b[1;32m     32\u001b[0m            \u001b[39m'\u001b[39m\u001b[39mgenerate_cache_files\u001b[39m\u001b[39m'\u001b[39m, \u001b[39m'\u001b[39m\u001b[39mFBPDataset\u001b[39m\u001b[39m'\u001b[39m, \u001b[39m'\u001b[39m\u001b[39mReorderedDataset\u001b[39m\u001b[39m'\u001b[39m]\n\u001b[0;32m---> 34\u001b[0m \u001b[39mfrom\u001b[39;00m \u001b[39m.\u001b[39;00m\u001b[39mstandard\u001b[39;00m \u001b[39mimport\u001b[39;00m get_standard_dataset\n\u001b[1;32m     35\u001b[0m \u001b[39mfrom\u001b[39;00m \u001b[39m.\u001b[39;00m\u001b[39mdataset\u001b[39;00m \u001b[39mimport\u001b[39;00m (Dataset, GroundTruthDataset,\n\u001b[1;32m     36\u001b[0m                       ObservationGroundTruthPairDataset)\n\u001b[1;32m     37\u001b[0m \u001b[39mfrom\u001b[39;00m \u001b[39m.\u001b[39;00m\u001b[39mellipses_dataset\u001b[39;00m \u001b[39mimport\u001b[39;00m EllipsesDataset\n",
      "File \u001b[0;32m~/anaconda3/envs/musc/lib/python3.9/site-packages/dival/datasets/standard.py:7\u001b[0m\n\u001b[1;32m      5\u001b[0m \u001b[39mfrom\u001b[39;00m \u001b[39mfunctools\u001b[39;00m \u001b[39mimport\u001b[39;00m partial\n\u001b[1;32m      6\u001b[0m \u001b[39mimport\u001b[39;00m \u001b[39mnumpy\u001b[39;00m \u001b[39mas\u001b[39;00m \u001b[39mnp\u001b[39;00m\n\u001b[0;32m----> 7\u001b[0m \u001b[39mimport\u001b[39;00m \u001b[39modl\u001b[39;00m\n\u001b[1;32m      8\u001b[0m \u001b[39mfrom\u001b[39;00m \u001b[39mdival\u001b[39;00m\u001b[39m.\u001b[39;00m\u001b[39mdatasets\u001b[39;00m\u001b[39m.\u001b[39;00m\u001b[39mellipses_dataset\u001b[39;00m \u001b[39mimport\u001b[39;00m EllipsesDataset\n\u001b[1;32m      9\u001b[0m \u001b[39mfrom\u001b[39;00m \u001b[39mdival\u001b[39;00m\u001b[39m.\u001b[39;00m\u001b[39mdatasets\u001b[39;00m\u001b[39m.\u001b[39;00m\u001b[39mlodopab_dataset\u001b[39;00m \u001b[39mimport\u001b[39;00m LoDoPaBDataset\n",
      "File \u001b[0;32m~/anaconda3/envs/musc/lib/python3.9/site-packages/odl/__init__.py:68\u001b[0m\n\u001b[1;32m     66\u001b[0m \u001b[39mfrom\u001b[39;00m \u001b[39m.\u001b[39;00m \u001b[39mimport\u001b[39;00m tomo\n\u001b[1;32m     67\u001b[0m \u001b[39mfrom\u001b[39;00m \u001b[39m.\u001b[39;00m \u001b[39mimport\u001b[39;00m trafos\n\u001b[0;32m---> 68\u001b[0m \u001b[39mfrom\u001b[39;00m \u001b[39m.\u001b[39;00m \u001b[39mimport\u001b[39;00m ufunc_ops\n\u001b[1;32m     69\u001b[0m \u001b[39mfrom\u001b[39;00m \u001b[39m.\u001b[39;00m \u001b[39mimport\u001b[39;00m util\n\u001b[1;32m     71\u001b[0m \u001b[39m# Add `test` function to global namespace so users can run `odl.test()`\u001b[39;00m\n",
      "File \u001b[0;32m~/anaconda3/envs/musc/lib/python3.9/site-packages/odl/ufunc_ops/__init__.py:15\u001b[0m\n\u001b[1;32m     11\u001b[0m \u001b[39mfrom\u001b[39;00m \u001b[39m__future__\u001b[39;00m \u001b[39mimport\u001b[39;00m absolute_import\n\u001b[1;32m     13\u001b[0m __all__ \u001b[39m=\u001b[39m ()\n\u001b[0;32m---> 15\u001b[0m \u001b[39mfrom\u001b[39;00m \u001b[39m.\u001b[39;00m\u001b[39mufunc_ops\u001b[39;00m \u001b[39mimport\u001b[39;00m \u001b[39m*\u001b[39m\n\u001b[1;32m     16\u001b[0m __all__ \u001b[39m=\u001b[39m ufunc_ops\u001b[39m.\u001b[39m__all__\n",
      "File \u001b[0;32m~/anaconda3/envs/musc/lib/python3.9/site-packages/odl/ufunc_ops/ufunc_ops.py:413\u001b[0m\n\u001b[1;32m    410\u001b[0m             \u001b[39mraise\u001b[39;00m \u001b[39mValueError\u001b[39;00m(\u001b[39m'\u001b[39m\u001b[39mufunc not available for \u001b[39m\u001b[39m{}\u001b[39;00m\u001b[39m'\u001b[39m\u001b[39m.\u001b[39mformat(domain))\n\u001b[1;32m    411\u001b[0m     \u001b[39mreturn\u001b[39;00m ufunc_factory\n\u001b[0;32m--> 413\u001b[0m \u001b[39mglobals\u001b[39m()[name \u001b[39m+\u001b[39m \u001b[39m'\u001b[39m\u001b[39m_op\u001b[39m\u001b[39m'\u001b[39m] \u001b[39m=\u001b[39m ufunc_class_factory(name, nargin,\n\u001b[1;32m    414\u001b[0m                                               nargout, docstring)\n\u001b[1;32m    415\u001b[0m \u001b[39mif\u001b[39;00m \u001b[39mnot\u001b[39;00m _is_integer_only_ufunc(name):\n\u001b[1;32m    416\u001b[0m     operator_example \u001b[39m=\u001b[39m RAW_UFUNC_FACTORY_OPERATOR_DOCSTRING\u001b[39m.\u001b[39mformat(\n\u001b[1;32m    417\u001b[0m         name\u001b[39m=\u001b[39mname)\n",
      "File \u001b[0;32m~/anaconda3/envs/musc/lib/python3.9/site-packages/odl/ufunc_ops/ufunc_ops.py:276\u001b[0m, in \u001b[0;36mufunc_class_factory\u001b[0;34m(name, nargin, nargout, docstring)\u001b[0m\n\u001b[1;32m    273\u001b[0m \u001b[39melse\u001b[39;00m:\n\u001b[1;32m    274\u001b[0m     dtype \u001b[39m=\u001b[39m \u001b[39mfloat\u001b[39m\n\u001b[0;32m--> 276\u001b[0m space \u001b[39m=\u001b[39m tensor_space(\u001b[39m3\u001b[39;49m, dtype\u001b[39m=\u001b[39;49mdtype)\n\u001b[1;32m    277\u001b[0m \u001b[39mif\u001b[39;00m nargin \u001b[39m==\u001b[39m \u001b[39m1\u001b[39m:\n\u001b[1;32m    278\u001b[0m     vec \u001b[39m=\u001b[39m space\u001b[39m.\u001b[39melement([\u001b[39m-\u001b[39m\u001b[39m1\u001b[39m, \u001b[39m1\u001b[39m, \u001b[39m2\u001b[39m])\n",
      "File \u001b[0;32m~/anaconda3/envs/musc/lib/python3.9/site-packages/odl/space/space_utils.py:149\u001b[0m, in \u001b[0;36mtensor_space\u001b[0;34m(shape, dtype, impl, **kwargs)\u001b[0m\n\u001b[1;32m    145\u001b[0m     dtype \u001b[39m=\u001b[39m tspace_cls\u001b[39m.\u001b[39mdefault_dtype()\n\u001b[1;32m    147\u001b[0m \u001b[39m# Use args by keyword since the constructor may take other arguments\u001b[39;00m\n\u001b[1;32m    148\u001b[0m \u001b[39m# by position\u001b[39;00m\n\u001b[0;32m--> 149\u001b[0m \u001b[39mreturn\u001b[39;00m tspace_cls(shape\u001b[39m=\u001b[39;49mshape, dtype\u001b[39m=\u001b[39;49mdtype, \u001b[39m*\u001b[39;49m\u001b[39m*\u001b[39;49mkwargs)\n",
      "File \u001b[0;32m~/anaconda3/envs/musc/lib/python3.9/site-packages/odl/space/npy_tensors.py:220\u001b[0m, in \u001b[0;36mNumpyTensorSpace.__init__\u001b[0;34m(self, shape, dtype, **kwargs)\u001b[0m\n\u001b[1;32m     76\u001b[0m \u001b[39m\u001b[39m\u001b[39m\"\"\"Initialize a new instance.\u001b[39;00m\n\u001b[1;32m     77\u001b[0m \n\u001b[1;32m     78\u001b[0m \u001b[39mParameters\u001b[39;00m\n\u001b[0;32m   (...)\u001b[0m\n\u001b[1;32m    217\u001b[0m \u001b[39mtensor_space((2, 3), dtype=int)\u001b[39;00m\n\u001b[1;32m    218\u001b[0m \u001b[39m\"\"\"\u001b[39;00m\n\u001b[1;32m    219\u001b[0m \u001b[39msuper\u001b[39m(NumpyTensorSpace, \u001b[39mself\u001b[39m)\u001b[39m.\u001b[39m\u001b[39m__init__\u001b[39m(shape, dtype)\n\u001b[0;32m--> 220\u001b[0m \u001b[39mif\u001b[39;00m \u001b[39mself\u001b[39m\u001b[39m.\u001b[39mdtype\u001b[39m.\u001b[39mchar \u001b[39mnot\u001b[39;00m \u001b[39min\u001b[39;00m \u001b[39mself\u001b[39;49m\u001b[39m.\u001b[39;49mavailable_dtypes():\n\u001b[1;32m    221\u001b[0m     \u001b[39mraise\u001b[39;00m \u001b[39mValueError\u001b[39;00m(\u001b[39m'\u001b[39m\u001b[39m`dtype` \u001b[39m\u001b[39m{!r}\u001b[39;00m\u001b[39m not supported\u001b[39m\u001b[39m'\u001b[39m\n\u001b[1;32m    222\u001b[0m                      \u001b[39m'\u001b[39m\u001b[39m'\u001b[39m\u001b[39m.\u001b[39mformat(dtype_str(dtype)))\n\u001b[1;32m    224\u001b[0m dist \u001b[39m=\u001b[39m kwargs\u001b[39m.\u001b[39mpop(\u001b[39m'\u001b[39m\u001b[39mdist\u001b[39m\u001b[39m'\u001b[39m, \u001b[39mNone\u001b[39;00m)\n",
      "File \u001b[0;32m~/anaconda3/envs/musc/lib/python3.9/site-packages/odl/space/npy_tensors.py:481\u001b[0m, in \u001b[0;36mNumpyTensorSpace.available_dtypes\u001b[0;34m()\u001b[0m\n\u001b[1;32m    479\u001b[0m \u001b[39mfor\u001b[39;00m lst \u001b[39min\u001b[39;00m np\u001b[39m.\u001b[39msctypes\u001b[39m.\u001b[39mvalues():\n\u001b[1;32m    480\u001b[0m     \u001b[39mfor\u001b[39;00m dtype \u001b[39min\u001b[39;00m lst:\n\u001b[0;32m--> 481\u001b[0m         \u001b[39mif\u001b[39;00m dtype \u001b[39mnot\u001b[39;00m \u001b[39min\u001b[39;00m (np\u001b[39m.\u001b[39;49mobject, np\u001b[39m.\u001b[39mvoid):\n\u001b[1;32m    482\u001b[0m             all_dtypes\u001b[39m.\u001b[39mappend(np\u001b[39m.\u001b[39mdtype(dtype))\n\u001b[1;32m    483\u001b[0m \u001b[39m# Need to add these manually since np.sctypes['others'] will only\u001b[39;00m\n\u001b[1;32m    484\u001b[0m \u001b[39m# contain one of them (depending on Python version)\u001b[39;00m\n",
      "File \u001b[0;32m~/anaconda3/envs/musc/lib/python3.9/site-packages/numpy/__init__.py:305\u001b[0m, in \u001b[0;36m__getattr__\u001b[0;34m(attr)\u001b[0m\n\u001b[1;32m    300\u001b[0m     warnings\u001b[39m.\u001b[39mwarn(\n\u001b[1;32m    301\u001b[0m         \u001b[39mf\u001b[39m\u001b[39m\"\u001b[39m\u001b[39mIn the future `np.\u001b[39m\u001b[39m{\u001b[39;00mattr\u001b[39m}\u001b[39;00m\u001b[39m` will be defined as the \u001b[39m\u001b[39m\"\u001b[39m\n\u001b[1;32m    302\u001b[0m         \u001b[39m\"\u001b[39m\u001b[39mcorresponding NumPy scalar.\u001b[39m\u001b[39m\"\u001b[39m, \u001b[39mFutureWarning\u001b[39;00m, stacklevel\u001b[39m=\u001b[39m\u001b[39m2\u001b[39m)\n\u001b[1;32m    304\u001b[0m \u001b[39mif\u001b[39;00m attr \u001b[39min\u001b[39;00m __former_attrs__:\n\u001b[0;32m--> 305\u001b[0m     \u001b[39mraise\u001b[39;00m \u001b[39mAttributeError\u001b[39;00m(__former_attrs__[attr])\n\u001b[1;32m    307\u001b[0m \u001b[39m# Importing Tester requires importing all of UnitTest which is not a\u001b[39;00m\n\u001b[1;32m    308\u001b[0m \u001b[39m# cheap import Since it is mainly used in test suits, we lazy import it\u001b[39;00m\n\u001b[1;32m    309\u001b[0m \u001b[39m# here to save on the order of 10 ms of import time for most users\u001b[39;00m\n\u001b[1;32m    310\u001b[0m \u001b[39m#\u001b[39;00m\n\u001b[1;32m    311\u001b[0m \u001b[39m# The previous way Tester was imported also had a side effect of adding\u001b[39;00m\n\u001b[1;32m    312\u001b[0m \u001b[39m# the full `numpy.testing` namespace\u001b[39;00m\n\u001b[1;32m    313\u001b[0m \u001b[39mif\u001b[39;00m attr \u001b[39m==\u001b[39m \u001b[39m'\u001b[39m\u001b[39mtesting\u001b[39m\u001b[39m'\u001b[39m:\n",
      "\u001b[0;31mAttributeError\u001b[0m: module 'numpy' has no attribute 'object'.\n`np.object` was a deprecated alias for the builtin `object`. To avoid this error in existing code, use `object` by itself. Doing this will not modify any behavior and is safe. \nThe aliases was originally deprecated in NumPy 1.20; for more details and guidance see the original release note at:\n    https://numpy.org/devdocs/release/1.20.0-notes.html#deprecations"
     ]
    }
   ],
   "source": [
    "from musc.dataloaders.load_lodopab_ct import get_dataloaders_ct\n"
   ]
  },
  {
   "cell_type": "code",
   "execution_count": null,
   "metadata": {},
   "outputs": [
    {
     "data": {
      "text/plain": [
       "<function musc.dataloaders.load_lodopab_ct.get_dataloaders_ct(batch_size: int = 1, num_workers: int = 0, cache_dir: Union[str, os.PathLike] = '/home/liu0003/Desktop/datasets/cache_lodopab', include_validation: bool = True, train_percent: int = 100, validation_len: int = 100, test_len: int = 100)>"
      ]
     },
     "execution_count": 2,
     "metadata": {},
     "output_type": "execute_result"
    }
   ],
   "source": [
    "get_dataloaders_ct"
   ]
  }
 ],
 "metadata": {
  "kernelspec": {
   "display_name": "musc",
   "language": "python",
   "name": "python3"
  },
  "language_info": {
   "codemirror_mode": {
    "name": "ipython",
    "version": 3
   },
   "file_extension": ".py",
   "mimetype": "text/x-python",
   "name": "python",
   "nbconvert_exporter": "python",
   "pygments_lexer": "ipython3",
   "version": "3.9.16"
  },
  "orig_nbformat": 4
 },
 "nbformat": 4,
 "nbformat_minor": 2
}
