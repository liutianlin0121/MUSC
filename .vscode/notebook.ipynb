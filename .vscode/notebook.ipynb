{
 "cells": [
  {
   "cell_type": "code",
   "execution_count": 1,
   "metadata": {},
   "outputs": [],
   "source": [
    "from musc.nn.sparse_coder import MUSC\n",
    "from musc.nn.dictionary import TransposedUDictionary\n",
    "import torch\n",
    "from matplotlib import pyplot as plt\n",
    "from functools import partial\n",
    "from musc.nn.utils import get_all_conv_and_transpose_conv\n",
    "\n",
    "compute_nnz_ratio = lambda aa: torch.count_nonzero(aa) / torch.numel(aa)\n",
    "\n",
    "def av_channel_squared_mean(code):\n",
    "  channel_squared_mean = torch.mean(code, [0, 2, 3]) ** 2\n",
    "  return channel_squared_mean.mean().item()\n",
    "\n",
    "def av_channel_variance(code):\n",
    "  channel_var = torch.var(code, [0, 2, 3])\n",
    "  return channel_var.mean().item()"
   ]
  },
  {
   "cell_type": "code",
   "execution_count": 2,
   "metadata": {},
   "outputs": [],
   "source": [
    "musc_model = MUSC(kernel_size=3,\n",
    "     hidden_layer_widths=[512, 256, 128, 64, 32],\n",
    "     n_classes=1,\n",
    "     ista_num_steps=8,\n",
    "     lasso_lambda_scalar_list= [0.0, 0.0, 0.0, 0.0, 0.0], #[0.0, 0.0, 0.0, 0.01, 0.1],\n",
    "     nonneg_code_bool=True)"
   ]
  },
  {
   "cell_type": "code",
   "execution_count": 10,
   "metadata": {},
   "outputs": [],
   "source": [
    "# torch.nn.functional.relu(musc_model.ista_stepsize_iter_list)"
   ]
  },
  {
   "cell_type": "code",
   "execution_count": 3,
   "metadata": {},
   "outputs": [],
   "source": [
    "with torch.no_grad():\n",
    "  z = torch.randn(4, 1, 128, 128)\n",
    "  D = musc_model.encoder_dictionary\n",
    "  Dt = TransposedUDictionary(musc_model.encoder_dictionary)  # D^{\\top}\n",
    "  Dtz = Dt(z)  # D^{\\top}z\n",
    "\n",
    "  all_steps_alphas = []\n",
    "  for step in range(musc_model.ista_num_steps):\n",
    "    if step == 0:\n",
    "      # \\alpha <= D^{\\top}z\n",
    "      alphas = Dtz\n",
    "    else:\n",
    "      # \\alpha <= \\alpha + D^{\\top}z - D^{\\top}D \\alpha\n",
    "      DtDalphas = Dt(D(alphas))\n",
    "      for scale in range(musc_model.num_scales):\n",
    "        # alphas[scale] = alphas[scale] + Dtz[scale] - DtDalphas[scale]\n",
    "        alphas[scale] = alphas[scale] + Dtz[scale] - DtDalphas[scale]\n",
    "\n",
    "    all_steps_alphas.append([torch.clone(a) for a in alphas])\n",
    "    for scale in range(musc_model.num_scales):\n",
    "      alphas[scale] = musc_model.thres_operator(\n",
    "        alphas[scale],\n",
    "        lambd=musc_model.lasso_lambda_iter_list[step * musc_model.num_scales + scale])\n",
    "\n",
    "\n",
    "acsm_all_steps_all_scales = []\n",
    "acv_all_steps_all_scales = []\n",
    "for step in range(musc_model.ista_num_steps):\n",
    "  acsm_single_step_all_scales = []\n",
    "  acv_single_step_all_scales = []\n",
    "  for scale in range(musc_model.num_scales):\n",
    "    code = all_steps_alphas[step][scale] #Dt(z)[code_idx] #\n",
    "    acsm = av_channel_squared_mean(code)\n",
    "    acv = av_channel_variance(code)\n",
    "    acsm_single_step_all_scales.append(acsm)\n",
    "    acv_single_step_all_scales.append(acv)\n",
    "  acsm_all_steps_all_scales.append(acsm_single_step_all_scales)\n",
    "  acv_all_steps_all_scales.append(acv_single_step_all_scales)\n",
    "\n",
    "acsm_all_steps_all_scales = torch.Tensor(acsm_all_steps_all_scales)\n",
    "acv_all_steps_all_scales = torch.Tensor(acv_all_steps_all_scales)"
   ]
  },
  {
   "cell_type": "code",
   "execution_count": 4,
   "metadata": {},
   "outputs": [
    {
     "data": {
      "text/html": [
       "<style type=\"text/css\">\n",
       "</style>\n",
       "<table id=\"T_2ed85\">\n",
       "  <caption>Average Channel Variance</caption>\n",
       "  <thead>\n",
       "    <tr>\n",
       "      <th class=\"blank level0\" >&nbsp;</th>\n",
       "      <th id=\"T_2ed85_level0_col0\" class=\"col_heading level0 col0\" >scale-1</th>\n",
       "      <th id=\"T_2ed85_level0_col1\" class=\"col_heading level0 col1\" >scale-2</th>\n",
       "      <th id=\"T_2ed85_level0_col2\" class=\"col_heading level0 col2\" >scale-3</th>\n",
       "      <th id=\"T_2ed85_level0_col3\" class=\"col_heading level0 col3\" >scale-4</th>\n",
       "      <th id=\"T_2ed85_level0_col4\" class=\"col_heading level0 col4\" >scale-5</th>\n",
       "    </tr>\n",
       "  </thead>\n",
       "  <tbody>\n",
       "    <tr>\n",
       "      <th id=\"T_2ed85_level0_row0\" class=\"row_heading level0 row0\" >step-1</th>\n",
       "      <td id=\"T_2ed85_row0_col0\" class=\"data row0 col0\" >0.000976</td>\n",
       "      <td id=\"T_2ed85_row0_col1\" class=\"data row0 col1\" >0.001127</td>\n",
       "      <td id=\"T_2ed85_row0_col2\" class=\"data row0 col2\" >0.002347</td>\n",
       "      <td id=\"T_2ed85_row0_col3\" class=\"data row0 col3\" >0.004995</td>\n",
       "      <td id=\"T_2ed85_row0_col4\" class=\"data row0 col4\" >0.011959</td>\n",
       "    </tr>\n",
       "    <tr>\n",
       "      <th id=\"T_2ed85_level0_row1\" class=\"row_heading level0 row1\" >step-2</th>\n",
       "      <td id=\"T_2ed85_row1_col0\" class=\"data row1 col0\" >0.000909</td>\n",
       "      <td id=\"T_2ed85_row1_col1\" class=\"data row1 col1\" >0.001046</td>\n",
       "      <td id=\"T_2ed85_row1_col2\" class=\"data row1 col2\" >0.002175</td>\n",
       "      <td id=\"T_2ed85_row1_col3\" class=\"data row1 col3\" >0.004632</td>\n",
       "      <td id=\"T_2ed85_row1_col4\" class=\"data row1 col4\" >0.011042</td>\n",
       "    </tr>\n",
       "    <tr>\n",
       "      <th id=\"T_2ed85_level0_row2\" class=\"row_heading level0 row2\" >step-3</th>\n",
       "      <td id=\"T_2ed85_row2_col0\" class=\"data row2 col0\" >0.002675</td>\n",
       "      <td id=\"T_2ed85_row2_col1\" class=\"data row2 col1\" >0.003072</td>\n",
       "      <td id=\"T_2ed85_row2_col2\" class=\"data row2 col2\" >0.006390</td>\n",
       "      <td id=\"T_2ed85_row2_col3\" class=\"data row2 col3\" >0.013605</td>\n",
       "      <td id=\"T_2ed85_row2_col4\" class=\"data row2 col4\" >0.032310</td>\n",
       "    </tr>\n",
       "    <tr>\n",
       "      <th id=\"T_2ed85_level0_row3\" class=\"row_heading level0 row3\" >step-4</th>\n",
       "      <td id=\"T_2ed85_row3_col0\" class=\"data row3 col0\" >0.008583</td>\n",
       "      <td id=\"T_2ed85_row3_col1\" class=\"data row3 col1\" >0.009832</td>\n",
       "      <td id=\"T_2ed85_row3_col2\" class=\"data row3 col2\" >0.020430</td>\n",
       "      <td id=\"T_2ed85_row3_col3\" class=\"data row3 col3\" >0.043410</td>\n",
       "      <td id=\"T_2ed85_row3_col4\" class=\"data row3 col4\" >0.102462</td>\n",
       "    </tr>\n",
       "    <tr>\n",
       "      <th id=\"T_2ed85_level0_row4\" class=\"row_heading level0 row4\" >step-5</th>\n",
       "      <td id=\"T_2ed85_row4_col0\" class=\"data row4 col0\" >0.029656</td>\n",
       "      <td id=\"T_2ed85_row4_col1\" class=\"data row4 col1\" >0.033872</td>\n",
       "      <td id=\"T_2ed85_row4_col2\" class=\"data row4 col2\" >0.070280</td>\n",
       "      <td id=\"T_2ed85_row4_col3\" class=\"data row4 col3\" >0.148899</td>\n",
       "      <td id=\"T_2ed85_row4_col4\" class=\"data row4 col4\" >0.349038</td>\n",
       "    </tr>\n",
       "    <tr>\n",
       "      <th id=\"T_2ed85_level0_row5\" class=\"row_heading level0 row5\" >step-6</th>\n",
       "      <td id=\"T_2ed85_row5_col0\" class=\"data row5 col0\" >0.108266</td>\n",
       "      <td id=\"T_2ed85_row5_col1\" class=\"data row5 col1\" >0.123326</td>\n",
       "      <td id=\"T_2ed85_row5_col2\" class=\"data row5 col2\" >0.255513</td>\n",
       "      <td id=\"T_2ed85_row5_col3\" class=\"data row5 col3\" >0.539705</td>\n",
       "      <td id=\"T_2ed85_row5_col4\" class=\"data row5 col4\" >1.257228</td>\n",
       "    </tr>\n",
       "    <tr>\n",
       "      <th id=\"T_2ed85_level0_row6\" class=\"row_heading level0 row6\" >step-7</th>\n",
       "      <td id=\"T_2ed85_row6_col0\" class=\"data row6 col0\" >0.410039</td>\n",
       "      <td id=\"T_2ed85_row6_col1\" class=\"data row6 col1\" >0.466078</td>\n",
       "      <td id=\"T_2ed85_row6_col2\" class=\"data row6 col2\" >0.964491</td>\n",
       "      <td id=\"T_2ed85_row6_col3\" class=\"data row6 col3\" >2.031815</td>\n",
       "      <td id=\"T_2ed85_row6_col4\" class=\"data row6 col4\" >4.709429</td>\n",
       "    </tr>\n",
       "    <tr>\n",
       "      <th id=\"T_2ed85_level0_row7\" class=\"row_heading level0 row7\" >step-8</th>\n",
       "      <td id=\"T_2ed85_row7_col0\" class=\"data row7 col0\" >1.588810</td>\n",
       "      <td id=\"T_2ed85_row7_col1\" class=\"data row7 col1\" >1.803082</td>\n",
       "      <td id=\"T_2ed85_row7_col2\" class=\"data row7 col2\" >3.727990</td>\n",
       "      <td id=\"T_2ed85_row7_col3\" class=\"data row7 col3\" >7.836741</td>\n",
       "      <td id=\"T_2ed85_row7_col4\" class=\"data row7 col4\" >18.097387</td>\n",
       "    </tr>\n",
       "  </tbody>\n",
       "</table>\n"
      ],
      "text/plain": [
       "<pandas.io.formats.style.Styler at 0x7f6c5b8c3a60>"
      ]
     },
     "execution_count": 4,
     "metadata": {},
     "output_type": "execute_result"
    }
   ],
   "source": [
    "acv_all_steps_all_scales\n",
    "\n",
    "import pandas as  pd\n",
    "\n",
    "df_acv = pd.DataFrame(acv_all_steps_all_scales.numpy())\n",
    "\n",
    "df_acv.index = [f'step-{str(step+1)}' for step in range(musc_model.ista_num_steps)]\n",
    "df_acv.columns = [f'scale-{str(scale+1)}' for scale in range(musc_model.num_scales)]\n",
    "df_acv = df_acv.style.set_caption(\"Average Channel Variance\")\n",
    "\n",
    "df_acv\n"
   ]
  },
  {
   "cell_type": "code",
   "execution_count": 5,
   "metadata": {},
   "outputs": [
    {
     "data": {
      "text/html": [
       "<style type=\"text/css\">\n",
       "</style>\n",
       "<table id=\"T_7e607\">\n",
       "  <caption>Average Channel Mean Squared</caption>\n",
       "  <thead>\n",
       "    <tr>\n",
       "      <th class=\"blank level0\" >&nbsp;</th>\n",
       "      <th id=\"T_7e607_level0_col0\" class=\"col_heading level0 col0\" >scale-1</th>\n",
       "      <th id=\"T_7e607_level0_col1\" class=\"col_heading level0 col1\" >scale-2</th>\n",
       "      <th id=\"T_7e607_level0_col2\" class=\"col_heading level0 col2\" >scale-3</th>\n",
       "      <th id=\"T_7e607_level0_col3\" class=\"col_heading level0 col3\" >scale-4</th>\n",
       "      <th id=\"T_7e607_level0_col4\" class=\"col_heading level0 col4\" >scale-5</th>\n",
       "    </tr>\n",
       "  </thead>\n",
       "  <tbody>\n",
       "    <tr>\n",
       "      <th id=\"T_7e607_level0_row0\" class=\"row_heading level0 row0\" >step-1</th>\n",
       "      <td id=\"T_7e607_row0_col0\" class=\"data row0 col0\" >0.000003</td>\n",
       "      <td id=\"T_7e607_row0_col1\" class=\"data row0 col1\" >0.000001</td>\n",
       "      <td id=\"T_7e607_row0_col2\" class=\"data row0 col2\" >0.000001</td>\n",
       "      <td id=\"T_7e607_row0_col3\" class=\"data row0 col3\" >0.000000</td>\n",
       "      <td id=\"T_7e607_row0_col4\" class=\"data row0 col4\" >0.000000</td>\n",
       "    </tr>\n",
       "    <tr>\n",
       "      <th id=\"T_7e607_level0_row1\" class=\"row_heading level0 row1\" >step-2</th>\n",
       "      <td id=\"T_7e607_row1_col0\" class=\"data row1 col0\" >0.000611</td>\n",
       "      <td id=\"T_7e607_row1_col1\" class=\"data row1 col1\" >0.000713</td>\n",
       "      <td id=\"T_7e607_row1_col2\" class=\"data row1 col2\" >0.001490</td>\n",
       "      <td id=\"T_7e607_row1_col3\" class=\"data row1 col3\" >0.003183</td>\n",
       "      <td id=\"T_7e607_row1_col4\" class=\"data row1 col4\" >0.007530</td>\n",
       "    </tr>\n",
       "    <tr>\n",
       "      <th id=\"T_7e607_level0_row2\" class=\"row_heading level0 row2\" >step-3</th>\n",
       "      <td id=\"T_7e607_row2_col0\" class=\"data row2 col0\" >0.002441</td>\n",
       "      <td id=\"T_7e607_row2_col1\" class=\"data row2 col1\" >0.002859</td>\n",
       "      <td id=\"T_7e607_row2_col2\" class=\"data row2 col2\" >0.005983</td>\n",
       "      <td id=\"T_7e607_row2_col3\" class=\"data row2 col3\" >0.012783</td>\n",
       "      <td id=\"T_7e607_row2_col4\" class=\"data row2 col4\" >0.029962</td>\n",
       "    </tr>\n",
       "    <tr>\n",
       "      <th id=\"T_7e607_level0_row3\" class=\"row_heading level0 row3\" >step-4</th>\n",
       "      <td id=\"T_7e607_row3_col0\" class=\"data row3 col0\" >0.009768</td>\n",
       "      <td id=\"T_7e607_row3_col1\" class=\"data row3 col1\" >0.011459</td>\n",
       "      <td id=\"T_7e607_row3_col2\" class=\"data row3 col2\" >0.024022</td>\n",
       "      <td id=\"T_7e607_row3_col3\" class=\"data row3 col3\" >0.051300</td>\n",
       "      <td id=\"T_7e607_row3_col4\" class=\"data row3 col4\" >0.119442</td>\n",
       "    </tr>\n",
       "    <tr>\n",
       "      <th id=\"T_7e607_level0_row4\" class=\"row_heading level0 row4\" >step-5</th>\n",
       "      <td id=\"T_7e607_row4_col0\" class=\"data row4 col0\" >0.039108</td>\n",
       "      <td id=\"T_7e607_row4_col1\" class=\"data row4 col1\" >0.045932</td>\n",
       "      <td id=\"T_7e607_row4_col2\" class=\"data row4 col2\" >0.096420</td>\n",
       "      <td id=\"T_7e607_row4_col3\" class=\"data row4 col3\" >0.205744</td>\n",
       "      <td id=\"T_7e607_row4_col4\" class=\"data row4 col4\" >0.476706</td>\n",
       "    </tr>\n",
       "    <tr>\n",
       "      <th id=\"T_7e607_level0_row5\" class=\"row_heading level0 row5\" >step-6</th>\n",
       "      <td id=\"T_7e607_row5_col0\" class=\"data row5 col0\" >0.156597</td>\n",
       "      <td id=\"T_7e607_row5_col1\" class=\"data row5 col1\" >0.184077</td>\n",
       "      <td id=\"T_7e607_row5_col2\" class=\"data row5 col2\" >0.386855</td>\n",
       "      <td id=\"T_7e607_row5_col3\" class=\"data row5 col3\" >0.824697</td>\n",
       "      <td id=\"T_7e607_row5_col4\" class=\"data row5 col4\" >1.904035</td>\n",
       "    </tr>\n",
       "    <tr>\n",
       "      <th id=\"T_7e607_level0_row6\" class=\"row_heading level0 row6\" >step-7</th>\n",
       "      <td id=\"T_7e607_row6_col0\" class=\"data row6 col0\" >0.627060</td>\n",
       "      <td id=\"T_7e607_row6_col1\" class=\"data row6 col1\" >0.737545</td>\n",
       "      <td id=\"T_7e607_row6_col2\" class=\"data row6 col2\" >1.551535</td>\n",
       "      <td id=\"T_7e607_row6_col3\" class=\"data row6 col3\" >3.304143</td>\n",
       "      <td id=\"T_7e607_row6_col4\" class=\"data row6 col4\" >7.608811</td>\n",
       "    </tr>\n",
       "    <tr>\n",
       "      <th id=\"T_7e607_level0_row7\" class=\"row_heading level0 row7\" >step-8</th>\n",
       "      <td id=\"T_7e607_row7_col0\" class=\"data row7 col0\" >2.510764</td>\n",
       "      <td id=\"T_7e607_row7_col1\" class=\"data row7 col1\" >2.954455</td>\n",
       "      <td id=\"T_7e607_row7_col2\" class=\"data row7 col2\" >6.220310</td>\n",
       "      <td id=\"T_7e607_row7_col3\" class=\"data row7 col3\" >13.233043</td>\n",
       "      <td id=\"T_7e607_row7_col4\" class=\"data row7 col4\" >30.416096</td>\n",
       "    </tr>\n",
       "  </tbody>\n",
       "</table>\n"
      ],
      "text/plain": [
       "<pandas.io.formats.style.Styler at 0x7f6d942e9910>"
      ]
     },
     "execution_count": 5,
     "metadata": {},
     "output_type": "execute_result"
    }
   ],
   "source": [
    "\n",
    "df_acsm = pd.DataFrame(acsm_all_steps_all_scales.numpy())\n",
    "\n",
    "df_acsm.index = [f'step-{str(step+1)}' for step in range(musc_model.ista_num_steps)]\n",
    "df_acsm.columns = [f'scale-{str(scale+1)}' for scale in range(musc_model.num_scales)]\n",
    "df_acsm = df_acsm.style.set_caption(\"Average Channel Mean Squared\")\n",
    "\n",
    "df_acsm"
   ]
  },
  {
   "cell_type": "code",
   "execution_count": 6,
   "metadata": {},
   "outputs": [
    {
     "data": {
      "text/plain": [
       "<matplotlib.legend.Legend at 0x7f6c5ac45160>"
      ]
     },
     "execution_count": 6,
     "metadata": {},
     "output_type": "execute_result"
    },
    {
     "data": {
      "image/png": "[encoded data removed]",
      "text/plain": [
       "<Figure size 600x300 with 2 Axes>"
      ]
     },
     "metadata": {},
     "output_type": "display_data"
    }
   ],
   "source": [
    "fig, axes = plt.subplots(1, 2, figsize=(6, 3))\n",
    "\n",
    "for scale in range(musc_model.num_scales):\n",
    "  axes[0].plot(list(range(1, musc_model.ista_num_steps + 1)),\n",
    "    acsm_all_steps_all_scales[:, scale], label=f'scale {scale}')\n",
    "axes[0].set_title('averaged chanel mean squared')\n",
    "\n",
    "for scale in range(musc_model.num_scales):\n",
    "  axes[1].plot(list(range(1, musc_model.ista_num_steps + 1)),\n",
    "    acv_all_steps_all_scales[:, scale], label=f'scale {scale}')\n",
    "axes[1].set_title('averaged chanel variance')\n",
    "\n",
    "plt.legend()\n",
    "# acv_all_steps_all_scales"
   ]
  },
  {
   "cell_type": "code",
   "execution_count": 7,
   "metadata": {},
   "outputs": [
    {
     "data": {
      "text/plain": [
       "tensor(1.0375)"
      ]
     },
     "execution_count": 7,
     "metadata": {},
     "output_type": "execute_result"
    }
   ],
   "source": [
    "torch.nn.functional.softplus(torch.tensor(0.6))"
   ]
  },
  {
   "cell_type": "code",
   "execution_count": null,
   "metadata": {},
   "outputs": [],
   "source": []
  }
 ],
 "metadata": {
  "kernelspec": {
   "display_name": "musc",
   "language": "python",
   "name": "python3"
  },
  "language_info": {
   "codemirror_mode": {
    "name": "ipython",
    "version": 3
   },
   "file_extension": ".py",
   "mimetype": "text/x-python",
   "name": "python",
   "nbconvert_exporter": "python",
   "pygments_lexer": "ipython3",
   "version": "3.9.16"
  },
  "orig_nbformat": 4
 },
 "nbformat": 4,
 "nbformat_minor": 2
}
